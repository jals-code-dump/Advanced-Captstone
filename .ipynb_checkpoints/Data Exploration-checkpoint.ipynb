{
 "cells": [
  {
   "cell_type": "code",
   "execution_count": 63,
   "metadata": {},
   "outputs": [
    {
     "name": "stdout",
     "output_type": "stream",
     "text": [
      "[name: \"/device:CPU:0\"\n",
      "device_type: \"CPU\"\n",
      "memory_limit: 268435456\n",
      "locality {\n",
      "}\n",
      "incarnation: 1363351287384573927\n",
      ", name: \"/device:GPU:0\"\n",
      "device_type: \"GPU\"\n",
      "memory_limit: 4153868288\n",
      "locality {\n",
      "  bus_id: 1\n",
      "  links {\n",
      "  }\n",
      "}\n",
      "incarnation: 7955320427867863470\n",
      "physical_device_desc: \"device: 0, name: NVIDIA GeForce RTX 2060, pci bus id: 0000:01:00.0, compute capability: 7.5\"\n",
      "]\n"
     ]
    }
   ],
   "source": [
    "# import the necessary packages\n",
    "from tensorflow.keras.datasets import mnist\n",
    "import numpy as np\n",
    "from tensorflow.python.client import device_lib \n",
    "print(device_lib.list_local_devices())\n",
    "from tensorflow.compat.v1 import ConfigProto\n",
    "from tensorflow.compat.v1 import InteractiveSession\n",
    "config = ConfigProto()\n",
    "config.gpu_options.allow_growth = True\n",
    "session = InteractiveSession(config=config)\n",
    "az_dataset_path = r\"C:\\GitHub\\mf724-ocr\\az-dataset\\A_Z Handwritten Data.csv\"\n",
    "import pandas as pd\n",
    "from matplotlib import pyplot as plt\n",
    "from sklearn.model_selection import train_test_split\n",
    "from sklearn.neighbors import KNeighborsClassifier\n",
    "import time\n",
    "from tensorflow.keras.applications.resnet50 import ResNet50\n",
    "import cv2\n",
    "import warnings\n",
    "warnings.filterwarnings('ignore')\n",
    "from sklearn.metrics import classification_report\n",
    "import tensorflow\n",
    "tensorflow.autograph.experimental.do_not_convert(func=None)\n",
    "plt.rcParams['figure.figsize'] = (20, 10)"
   ]
  },
  {
   "cell_type": "code",
   "execution_count": 2,
   "metadata": {},
   "outputs": [
    {
     "name": "stdout",
     "output_type": "stream",
     "text": [
      "['0', '1', '2', '3', '4', '5', '6', '7', '8', '9', 'a', 'b', 'c', 'd', 'e', 'f', 'g', 'h', 'i', 'j', 'k', 'l', 'm', 'n', 'o', 'p', 'q', 'r', 's', 't', 'u', 'v', 'w', 'x', 'y', 'z']\n"
     ]
    }
   ],
   "source": [
    "labels = \"0123456789abcdefghijklmnopqrstuvwxyz\"\n",
    "dataset_labels = []\n",
    "for i in labels:\n",
    "    dataset_labels.append(i)\n",
    "\n",
    "print(dataset_labels)"
   ]
  },
  {
   "cell_type": "code",
   "execution_count": 3,
   "metadata": {},
   "outputs": [
    {
     "name": "stdout",
     "output_type": "stream",
     "text": [
      "Label: 5\n"
     ]
    },
    {
     "data": {
      "text/plain": [
       "<matplotlib.image.AxesImage at 0x1f0bbe7ab50>"
      ]
     },
     "execution_count": 3,
     "metadata": {},
     "output_type": "execute_result"
    },
    {
     "data": {
      "image/png": "[encoded data removed]",
      "text/plain": [
       "<Figure size 432x288 with 1 Axes>"
      ]
     },
     "metadata": {
      "needs_background": "light"
     },
     "output_type": "display_data"
    }
   ],
   "source": [
    "#extract mnist data as per api\n",
    "(train_X, train_y), (test_X, test_y) = mnist.load_data()\n",
    "#combine all labels and images so we can split  later\n",
    "mn_images = np.vstack([train_X, test_X])\n",
    "mn_labels = np.hstack([train_y, test_y])\n",
    "MN = (mn_labels, mn_images)\n",
    "\n",
    "#test image to show data is loaded correctly\n",
    "print(\"Label:\", MN[0][0])\n",
    "plt.imshow(MN[1][0], cmap=\"gray\")"
   ]
  },
  {
   "cell_type": "code",
   "execution_count": 4,
   "metadata": {},
   "outputs": [
    {
     "name": "stdout",
     "output_type": "stream",
     "text": [
      "Label: a\n"
     ]
    },
    {
     "data": {
      "image/png": "[encoded data removed]",
      "text/plain": [
       "<Figure size 432x288 with 1 Axes>"
      ]
     },
     "metadata": {
      "needs_background": "light"
     },
     "output_type": "display_data"
    }
   ],
   "source": [
    "#load az dataset from local path\n",
    "df = pd.read_csv(az_dataset_path)\n",
    "\n",
    "#empty lists to fill with images and labels\n",
    "az_images = []\n",
    "az_labels = []\n",
    "\n",
    "#iterate through dataset extracting label and images\n",
    "for index, row in df.iterrows():\n",
    "    #row 0 contains the label\n",
    "    label = row[\"0\"]\n",
    "    #all other row contents are the images\n",
    "    image = np.array(row[1:], dtype=\"uint8\")\n",
    "    #rearrange the array to an image format\n",
    "    image = image.reshape((28, 28))\n",
    "    az_images.append(image)\n",
    "    #we add 10 as the labels will be after the 0-9 labels\n",
    "    az_labels.append(label+10)\n",
    "\n",
    "#load images and labels into single arrays of correct format\n",
    "az_images = np.array(az_images, dtype=\"float32\")\n",
    "az_labels = np.array(az_labels, dtype=\"int\")\n",
    "#create a tuple for AZ data\n",
    "AZ = (az_labels, az_images)\n",
    "#show a test image to prove correct loading\n",
    "plt.imshow(AZ[1][0], cmap=\"gray\")\n",
    "print(\"Label:\", dataset_labels[AZ[0][1]])"
   ]
  },
  {
   "cell_type": "code",
   "execution_count": 5,
   "metadata": {},
   "outputs": [],
   "source": [
    "comb_images = np.vstack([MN[1], AZ[1]])\n",
    "comb_labels = np.hstack([MN[0], AZ[0]])"
   ]
  },
  {
   "cell_type": "code",
   "execution_count": 8,
   "metadata": {},
   "outputs": [
    {
     "data": {
      "text/plain": [
       "(442450,)"
      ]
     },
     "execution_count": 8,
     "metadata": {},
     "output_type": "execute_result"
    }
   ],
   "source": [
    "comb_images.shape\n",
    "comb_labels.shape"
   ]
  },
  {
   "cell_type": "code",
   "execution_count": 50,
   "metadata": {},
   "outputs": [
    {
     "data": {
      "text/plain": [
       "[5,\n",
       " 0,\n",
       " 4,\n",
       " 1,\n",
       " 9,\n",
       " 2,\n",
       " 3,\n",
       " 6,\n",
       " 7,\n",
       " 8,\n",
       " 10,\n",
       " 11,\n",
       " 12,\n",
       " 13,\n",
       " 14,\n",
       " 15,\n",
       " 16,\n",
       " 17,\n",
       " 18,\n",
       " 19,\n",
       " 20,\n",
       " 21,\n",
       " 22,\n",
       " 23,\n",
       " 24,\n",
       " 25,\n",
       " 26,\n",
       " 27,\n",
       " 28,\n",
       " 29,\n",
       " 30,\n",
       " 31,\n",
       " 32,\n",
       " 33,\n",
       " 34,\n",
       " 35]"
      ]
     },
     "execution_count": 50,
     "metadata": {},
     "output_type": "execute_result"
    }
   ],
   "source": [
    "import pandas as pd\n",
    "df = pd.DataFrame(data=comb_labels, columns=[\"labels\"])\n",
    "x = df['labels'].unique().tolist()\n",
    "x"
   ]
  },
  {
   "cell_type": "code",
   "execution_count": 61,
   "metadata": {},
   "outputs": [
    {
     "data": {
      "text/plain": [
       "[6313,\n",
       " 6903,\n",
       " 6824,\n",
       " 7877,\n",
       " 6958,\n",
       " 6990,\n",
       " 7141,\n",
       " 6876,\n",
       " 7293,\n",
       " 6825,\n",
       " 13869,\n",
       " 8668,\n",
       " 23409,\n",
       " 10134,\n",
       " 11440,\n",
       " 1163,\n",
       " 5762,\n",
       " 7218,\n",
       " 1120,\n",
       " 8493,\n",
       " 5603,\n",
       " 11586,\n",
       " 12336,\n",
       " 19010,\n",
       " 57825,\n",
       " 19341,\n",
       " 5812,\n",
       " 11566,\n",
       " 48419,\n",
       " 22495,\n",
       " 29008,\n",
       " 4182,\n",
       " 10784,\n",
       " 6272,\n",
       " 10859,\n",
       " 6076]"
      ]
     },
     "execution_count": 61,
     "metadata": {},
     "output_type": "execute_result"
    }
   ],
   "source": [
    "y = []\n",
    "x_name = []\n",
    "\n",
    "for v in x:\n",
    "    y.append(df[df['labels'] == v].shape[0])\n",
    "    x_name.append(dataset_labels[v])\n",
    "y\n",
    "\n"
   ]
  },
  {
   "cell_type": "code",
   "execution_count": 66,
   "metadata": {},
   "outputs": [
    {
     "data": {
      "image/png": "[encoded data removed]",
      "text/plain": [
       "<Figure size 1440x720 with 1 Axes>"
      ]
     },
     "metadata": {
      "needs_background": "light"
     },
     "output_type": "display_data"
    }
   ],
   "source": [
    "plt.figure()\n",
    "plt.barh(x_name,y)\n",
    "plt.title(\"Frequencies of Characters in combined Dataset\")\n",
    "plt.ylabel(\"Character\")\n",
    "plt.xlabel(\"Frequency\")\n",
    "\n",
    "plt.show()"
   ]
  },
  {
   "cell_type": "code",
   "execution_count": null,
   "metadata": {},
   "outputs": [],
   "source": []
  }
 ],
 "metadata": {
  "kernelspec": {
   "display_name": "Python 3",
   "language": "python",
   "name": "python3"
  },
  "language_info": {
   "codemirror_mode": {
    "name": "ipython",
    "version": 3
   },
   "file_extension": ".py",
   "mimetype": "text/x-python",
   "name": "python",
   "nbconvert_exporter": "python",
   "pygments_lexer": "ipython3",
   "version": "3.8.3"
  }
 },
 "nbformat": 4,
 "nbformat_minor": 4
}
