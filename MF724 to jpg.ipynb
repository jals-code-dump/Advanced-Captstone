{
 "cells": [
  {
   "cell_type": "code",
   "execution_count": 1,
   "metadata": {},
   "outputs": [],
   "source": [
    "import os\n",
    "import pdf2image"
   ]
  },
  {
   "cell_type": "code",
   "execution_count": 2,
   "metadata": {},
   "outputs": [],
   "source": [
    "path = \"C:\\\\GitHub\\\\mf724-ocr\\\\724_scans\\\\\"\n",
    "pdfs = os.listdir(path)\n",
    "images = []\n",
    "for pdf in pdfs:\n",
    "    filepath = r\"{}\".format(path + \"\\\\\" + pdf)\n",
    "    pages = pdf2image.convert_from_path(filepath, poppler_path = r\"C:\\Program Files\\poppler-21.03.0\\Library\\bin\")\n",
    "    for i, v in enumerate(pages):\n",
    "        filename = pdf + str(i) + \".jpg\"\n",
    "        v.save(filename, 'JPEG') "
   ]
  },
  {
   "cell_type": "code",
   "execution_count": null,
   "metadata": {},
   "outputs": [],
   "source": []
  }
 ],
 "metadata": {
  "kernelspec": {
   "display_name": "Python 3",
   "language": "python",
   "name": "python3"
  },
  "language_info": {
   "codemirror_mode": {
    "name": "ipython",
    "version": 3
   },
   "file_extension": ".py",
   "mimetype": "text/x-python",
   "name": "python",
   "nbconvert_exporter": "python",
   "pygments_lexer": "ipython3",
   "version": "3.7.7"
  }
 },
 "nbformat": 4,
 "nbformat_minor": 4
}
