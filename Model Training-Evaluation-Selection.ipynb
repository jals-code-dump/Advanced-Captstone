{
 "cells": [
  {
   "cell_type": "markdown",
   "metadata": {},
   "source": [
    "# Model Training, Evaluation and Selection\n",
    "\n",
    "This notebook does the following:\n",
    "\n",
    "* Loads the MNIST and Kaggle AZ Datasets\n",
    "* Trains a KNN classifier and a ResNet Classifier\n",
    "* Tests accuracy of the above"
   ]
  },
  {
   "cell_type": "markdown",
   "metadata": {},
   "source": [
    "### Dependencies"
   ]
  },
  {
   "cell_type": "code",
   "execution_count": 15,
   "metadata": {},
   "outputs": [
    {
     "name": "stdout",
     "output_type": "stream",
     "text": [
      "[name: \"/device:CPU:0\"\n",
      "device_type: \"CPU\"\n",
      "memory_limit: 268435456\n",
      "locality {\n",
      "}\n",
      "incarnation: 14123534073417642930\n",
      ", name: \"/device:GPU:0\"\n",
      "device_type: \"GPU\"\n",
      "memory_limit: 4153868288\n",
      "locality {\n",
      "  bus_id: 1\n",
      "  links {\n",
      "  }\n",
      "}\n",
      "incarnation: 17105257790114846871\n",
      "physical_device_desc: \"device: 0, name: NVIDIA GeForce RTX 2060, pci bus id: 0000:01:00.0, compute capability: 7.5\"\n",
      "]\n"
     ]
    },
    {
     "data": {
      "text/plain": [
       "<function tensorflow.python.autograph.impl.api.do_not_convert(func=None)>"
      ]
     },
     "execution_count": 15,
     "metadata": {},
     "output_type": "execute_result"
    }
   ],
   "source": [
    "# import the necessary packages\n",
    "from tensorflow.keras.datasets import mnist\n",
    "import numpy as np\n",
    "from tensorflow.python.client import device_lib \n",
    "print(device_lib.list_local_devices())\n",
    "from tensorflow.compat.v1 import ConfigProto\n",
    "from tensorflow.compat.v1 import InteractiveSession\n",
    "config = ConfigProto()\n",
    "config.gpu_options.allow_growth = True\n",
    "session = InteractiveSession(config=config)\n",
    "az_dataset_path = r\"C:\\GitHub\\mf724-ocr\\az-dataset\\A_Z Handwritten Data.csv\"\n",
    "import pandas as pd\n",
    "from matplotlib import pyplot as plt\n",
    "from sklearn.model_selection import train_test_split\n",
    "from sklearn.neighbors import KNeighborsClassifier\n",
    "import time\n",
    "from tensorflow.keras.applications.resnet50 import ResNet50\n",
    "import cv2\n",
    "import warnings\n",
    "warnings.filterwarnings('ignore')\n",
    "from sklearn.metrics import classification_report\n",
    "import tensorflow\n",
    "tensorflow.autograph.experimental.do_not_convert(func=None)"
   ]
  },
  {
   "cell_type": "markdown",
   "metadata": {},
   "source": [
    "### Create Labels for combined Dataset"
   ]
  },
  {
   "cell_type": "code",
   "execution_count": 16,
   "metadata": {},
   "outputs": [
    {
     "name": "stdout",
     "output_type": "stream",
     "text": [
      "['0', '1', '2', '3', '4', '5', '6', '7', '8', '9', 'a', 'b', 'c', 'd', 'e', 'f', 'g', 'h', 'i', 'j', 'k', 'l', 'm', 'n', 'o', 'p', 'q', 'r', 's', 't', 'u', 'v', 'w', 'x', 'y', 'z']\n"
     ]
    }
   ],
   "source": [
    "labels = \"0123456789abcdefghijklmnopqrstuvwxyz\"\n",
    "dataset_labels = []\n",
    "for i in labels:\n",
    "    dataset_labels.append(i)\n",
    "\n",
    "print(dataset_labels)"
   ]
  },
  {
   "cell_type": "markdown",
   "metadata": {},
   "source": [
    "### Datasets\n",
    "\n",
    "Loads the MNIST and AZ datasets, then combines and splits them for training/validation"
   ]
  },
  {
   "cell_type": "code",
   "execution_count": 17,
   "metadata": {},
   "outputs": [
    {
     "name": "stdout",
     "output_type": "stream",
     "text": [
      "Label: 5\n"
     ]
    },
    {
     "data": {
      "text/plain": [
       "<matplotlib.image.AxesImage at 0x1968bb19610>"
      ]
     },
     "execution_count": 17,
     "metadata": {},
     "output_type": "execute_result"
    },
    {
     "data": {
      "image/png": "[encoded data removed]",
      "text/plain": [
       "<Figure size 432x288 with 1 Axes>"
      ]
     },
     "metadata": {
      "needs_background": "light"
     },
     "output_type": "display_data"
    }
   ],
   "source": [
    "#extract mnist data as per api\n",
    "(train_X, train_y), (test_X, test_y) = mnist.load_data()\n",
    "#combine all labels and images so we can split  later\n",
    "mn_images = np.vstack([train_X, test_X])\n",
    "mn_labels = np.hstack([train_y, test_y])\n",
    "MN = (mn_labels, mn_images)\n",
    "\n",
    "#test image to show data is loaded correctly\n",
    "print(\"Label:\", MN[0][0])\n",
    "plt.imshow(MN[1][0], cmap=\"gray\")"
   ]
  },
  {
   "cell_type": "code",
   "execution_count": 18,
   "metadata": {},
   "outputs": [
    {
     "name": "stdout",
     "output_type": "stream",
     "text": [
      "Label: a\n"
     ]
    },
    {
     "data": {
      "image/png": "[encoded data removed]",
      "text/plain": [
       "<Figure size 432x288 with 1 Axes>"
      ]
     },
     "metadata": {
      "needs_background": "light"
     },
     "output_type": "display_data"
    }
   ],
   "source": [
    "#load az dataset from local path\n",
    "df = pd.read_csv(az_dataset_path)\n",
    "\n",
    "#empty lists to fill with images and labels\n",
    "az_images = []\n",
    "az_labels = []\n",
    "\n",
    "#iterate through dataset extracting label and images\n",
    "for index, row in df.iterrows():\n",
    "    #row 0 contains the label\n",
    "    label = row[\"0\"]\n",
    "    #all other row contents are the images\n",
    "    image = np.array(row[1:], dtype=\"uint8\")\n",
    "    #rearrange the array to an image format\n",
    "    image = image.reshape((28, 28))\n",
    "    az_images.append(image)\n",
    "    #we add 10 as the labels will be after the 0-9 labels\n",
    "    az_labels.append(label+10)\n",
    "\n",
    "#load images and labels into single arrays of correct format\n",
    "az_images = np.array(az_images, dtype=\"float32\")\n",
    "az_labels = np.array(az_labels, dtype=\"int\")\n",
    "#create a tuple for AZ data\n",
    "AZ = (az_labels, az_images)\n",
    "#show a test image to prove correct loading\n",
    "plt.imshow(AZ[1][0], cmap=\"gray\")\n",
    "print(\"Label:\", dataset_labels[AZ[0][1]])"
   ]
  },
  {
   "cell_type": "markdown",
   "metadata": {},
   "source": [
    "### Split Datasets"
   ]
  },
  {
   "cell_type": "code",
   "execution_count": 19,
   "metadata": {},
   "outputs": [],
   "source": [
    "#create a single image and label dataset from both datasets\n",
    "comb_images = np.vstack([MN[1], AZ[1]])\n",
    "comb_labels = np.hstack([MN[0], AZ[0]])\n",
    "\n",
    "#flatten images for knn model\n",
    "flat_images = [x.flatten() for x in comb_images]\n",
    "#split test sets for KNN\n",
    "ktrainX, ktestX, ktrainY, ktestY = train_test_split(flat_images, comb_labels, test_size=0.25, random_state=1)\n",
    "\n",
    "#resnet requires images be a minimum of 32, 32, 1\n",
    "#therefore we need to resize them accordingly\n",
    "comb_images = [cv2.resize(image, (32, 32)) for image in comb_images]\n",
    "comb_images = np.array(comb_images, dtype=\"float32\")\n",
    "\n",
    "#now we need to add the x,x,1 and normalise the values to be between 0 and 1\n",
    "comb_images = np.expand_dims(comb_images, axis=-1)\n",
    "comb_images /= 255.0\n",
    "\n",
    "#split test sets for CNN, using same randomstate to ensure no bias\n",
    "trainX, testX, trainY, testY = train_test_split(comb_images, comb_labels, test_size=0.25, random_state=1)"
   ]
  },
  {
   "cell_type": "markdown",
   "metadata": {},
   "source": [
    "### ResNet"
   ]
  },
  {
   "cell_type": "code",
   "execution_count": 20,
   "metadata": {},
   "outputs": [
    {
     "name": "stdout",
     "output_type": "stream",
     "text": [
      "2334/2334 [==============================] - 184s 76ms/step - loss: 0.3818 - accuracy: 0.9010 - val_loss: 0.1836 - val_accuracy: 0.9470\n",
      "Fitting time: 184.21516108512878\n",
      "Predictions time: 41.882609367370605\n",
      "              precision    recall  f1-score   support\n",
      "\n",
      "           0       0.82      0.63      0.71      1721\n",
      "           1       0.96      0.99      0.98      1919\n",
      "           2       0.95      0.83      0.89      1763\n",
      "           3       0.86      0.95      0.90      1765\n",
      "           4       0.96      0.91      0.93      1724\n",
      "           5       0.89      0.85      0.87      1632\n",
      "           6       0.95      0.98      0.97      1764\n",
      "           7       0.83      0.99      0.91      1772\n",
      "           8       0.97      0.81      0.88      1725\n",
      "           9       0.94      0.93      0.94      1726\n",
      "           a       0.98      0.92      0.95      3473\n",
      "           b       0.93      0.94      0.93      2199\n",
      "           c       0.91      0.99      0.95      5821\n",
      "           d       0.90      0.95      0.92      2481\n",
      "           e       0.99      0.90      0.94      2866\n",
      "           f       0.97      0.89      0.93       288\n",
      "           g       0.98      0.86      0.92      1436\n",
      "           h       0.91      0.92      0.92      1767\n",
      "           i       0.96      0.95      0.96       278\n",
      "           j       0.90      0.92      0.91      2154\n",
      "           k       0.92      0.96      0.94      1449\n",
      "           l       0.98      0.96      0.97      2860\n",
      "           m       0.99      0.96      0.97      3084\n",
      "           n       0.95      0.98      0.97      4864\n",
      "           o       0.95      0.94      0.95     14392\n",
      "           p       0.98      0.98      0.98      4928\n",
      "           q       0.93      0.95      0.94      1406\n",
      "           r       0.98      0.95      0.97      2869\n",
      "           s       0.98      0.96      0.97     12270\n",
      "           t       0.97      0.99      0.98      5441\n",
      "           u       0.93      1.00      0.96      7241\n",
      "           v       0.98      0.95      0.97      1082\n",
      "           w       0.99      0.94      0.97      2721\n",
      "           x       0.98      0.93      0.96      1526\n",
      "           y       0.93      0.97      0.95      2719\n",
      "           z       0.82      0.98      0.90      1487\n",
      "\n",
      "    accuracy                           0.95    110613\n",
      "   macro avg       0.94      0.93      0.93    110613\n",
      "weighted avg       0.95      0.95      0.95    110613\n",
      "\n",
      "INFO:tensorflow:Assets written to: C:\\GitHub\\mf724-ocr\\ResNet50\\assets\n"
     ]
    }
   ],
   "source": [
    "#instantiate the resnet model with randomised weights, input shape and amount of classes\n",
    "model = ResNet50(weights=None, input_shape=(32, 32, 1), classes=len(dataset_labels))\n",
    "\n",
    "#compile model\n",
    "model.compile(loss=\"sparse_categorical_crossentropy\", optimizer='adam', metrics=[\"accuracy\"])\n",
    "\n",
    "#train model on training data, using 10% for validation\n",
    "#batch size uses ~90% of a GTX 1080 TI\n",
    "startTime = time.time()\n",
    "model.fit(trainX, trainY, batch_size=128, epochs=1, validation_split=0.1, verbose=1)\n",
    "print(\"Fitting time:\", time.time()-startTime)\n",
    "\n",
    "#carry out predictions\n",
    "startTime = time.time()\n",
    "preds = model.predict(testX)\n",
    "print(\"Predictions time:\", time.time()-startTime)\n",
    "\n",
    "#print a classification report to see final scores\n",
    "print(classification_report(testY, preds.argmax(axis=1), target_names=dataset_labels))\n",
    "\n",
    "#save the model\n",
    "model.save(\"C:\\GitHub\\mf724-ocr\\ResNet50\")"
   ]
  },
  {
   "cell_type": "markdown",
   "metadata": {},
   "source": [
    "### KNN Classifier"
   ]
  },
  {
   "cell_type": "code",
   "execution_count": 34,
   "metadata": {},
   "outputs": [
    {
     "name": "stdout",
     "output_type": "stream",
     "text": [
      "Fitting time: 1088.7480635643005\n"
     ]
    },
    {
     "ename": "ValueError",
     "evalue": "Expected 2D array, got 1D array instead:\narray=[28 34 27 ... 28  3  6].\nReshape your data either using array.reshape(-1, 1) if your data has a single feature or array.reshape(1, -1) if it contains a single sample.",
     "output_type": "error",
     "traceback": [
      "\u001b[1;31m---------------------------------------------------------------------------\u001b[0m",
      "\u001b[1;31mValueError\u001b[0m                                Traceback (most recent call last)",
      "\u001b[1;32m<ipython-input-34-4bc8f4a4eedf>\u001b[0m in \u001b[0;36m<module>\u001b[1;34m\u001b[0m\n\u001b[0;32m      9\u001b[0m \u001b[1;31m#predict on validation data\u001b[0m\u001b[1;33m\u001b[0m\u001b[1;33m\u001b[0m\u001b[1;33m\u001b[0m\u001b[0m\n\u001b[0;32m     10\u001b[0m \u001b[0mstartTime\u001b[0m \u001b[1;33m=\u001b[0m \u001b[0mtime\u001b[0m\u001b[1;33m.\u001b[0m\u001b[0mtime\u001b[0m\u001b[1;33m(\u001b[0m\u001b[1;33m)\u001b[0m\u001b[1;33m\u001b[0m\u001b[1;33m\u001b[0m\u001b[0m\n\u001b[1;32m---> 11\u001b[1;33m \u001b[0mpreds\u001b[0m \u001b[1;33m=\u001b[0m \u001b[0mknn\u001b[0m\u001b[1;33m.\u001b[0m\u001b[0mpredict\u001b[0m\u001b[1;33m(\u001b[0m\u001b[0mktestY\u001b[0m\u001b[1;33m)\u001b[0m\u001b[1;33m\u001b[0m\u001b[1;33m\u001b[0m\u001b[0m\n\u001b[0m\u001b[0;32m     12\u001b[0m \u001b[0mprint\u001b[0m\u001b[1;33m(\u001b[0m\u001b[1;34m\"Predictions time:\"\u001b[0m\u001b[1;33m,\u001b[0m \u001b[0mtime\u001b[0m\u001b[1;33m.\u001b[0m\u001b[0mtime\u001b[0m\u001b[1;33m(\u001b[0m\u001b[1;33m)\u001b[0m\u001b[1;33m-\u001b[0m\u001b[0mstartTime\u001b[0m\u001b[1;33m)\u001b[0m\u001b[1;33m\u001b[0m\u001b[1;33m\u001b[0m\u001b[0m\n\u001b[0;32m     13\u001b[0m \u001b[0mprint\u001b[0m\u001b[1;33m(\u001b[0m\u001b[0mclassification_report\u001b[0m\u001b[1;33m(\u001b[0m\u001b[0mktestY\u001b[0m\u001b[1;33m,\u001b[0m \u001b[0mpreds\u001b[0m\u001b[1;33m.\u001b[0m\u001b[0margmax\u001b[0m\u001b[1;33m(\u001b[0m\u001b[0maxis\u001b[0m\u001b[1;33m=\u001b[0m\u001b[1;36m1\u001b[0m\u001b[1;33m)\u001b[0m\u001b[1;33m,\u001b[0m \u001b[0mtarget_names\u001b[0m\u001b[1;33m=\u001b[0m\u001b[0mdataset_labels\u001b[0m\u001b[1;33m)\u001b[0m\u001b[1;33m)\u001b[0m\u001b[1;33m\u001b[0m\u001b[1;33m\u001b[0m\u001b[0m\n",
      "\u001b[1;32m~\\anaconda3\\lib\\site-packages\\sklearn\\neighbors\\_classification.py\u001b[0m in \u001b[0;36mpredict\u001b[1;34m(self, X)\u001b[0m\n\u001b[0;32m    169\u001b[0m             \u001b[0mClass\u001b[0m \u001b[0mlabels\u001b[0m \u001b[1;32mfor\u001b[0m \u001b[0meach\u001b[0m \u001b[0mdata\u001b[0m \u001b[0msample\u001b[0m\u001b[1;33m.\u001b[0m\u001b[1;33m\u001b[0m\u001b[1;33m\u001b[0m\u001b[0m\n\u001b[0;32m    170\u001b[0m         \"\"\"\n\u001b[1;32m--> 171\u001b[1;33m         \u001b[0mX\u001b[0m \u001b[1;33m=\u001b[0m \u001b[0mcheck_array\u001b[0m\u001b[1;33m(\u001b[0m\u001b[0mX\u001b[0m\u001b[1;33m,\u001b[0m \u001b[0maccept_sparse\u001b[0m\u001b[1;33m=\u001b[0m\u001b[1;34m'csr'\u001b[0m\u001b[1;33m)\u001b[0m\u001b[1;33m\u001b[0m\u001b[1;33m\u001b[0m\u001b[0m\n\u001b[0m\u001b[0;32m    172\u001b[0m \u001b[1;33m\u001b[0m\u001b[0m\n\u001b[0;32m    173\u001b[0m         \u001b[0mneigh_dist\u001b[0m\u001b[1;33m,\u001b[0m \u001b[0mneigh_ind\u001b[0m \u001b[1;33m=\u001b[0m \u001b[0mself\u001b[0m\u001b[1;33m.\u001b[0m\u001b[0mkneighbors\u001b[0m\u001b[1;33m(\u001b[0m\u001b[0mX\u001b[0m\u001b[1;33m)\u001b[0m\u001b[1;33m\u001b[0m\u001b[1;33m\u001b[0m\u001b[0m\n",
      "\u001b[1;32m~\\anaconda3\\lib\\site-packages\\sklearn\\utils\\validation.py\u001b[0m in \u001b[0;36mcheck_array\u001b[1;34m(array, accept_sparse, accept_large_sparse, dtype, order, copy, force_all_finite, ensure_2d, allow_nd, ensure_min_samples, ensure_min_features, warn_on_dtype, estimator)\u001b[0m\n\u001b[0;32m    554\u001b[0m                     \u001b[1;34m\"Reshape your data either using array.reshape(-1, 1) if \"\u001b[0m\u001b[1;33m\u001b[0m\u001b[1;33m\u001b[0m\u001b[0m\n\u001b[0;32m    555\u001b[0m                     \u001b[1;34m\"your data has a single feature or array.reshape(1, -1) \"\u001b[0m\u001b[1;33m\u001b[0m\u001b[1;33m\u001b[0m\u001b[0m\n\u001b[1;32m--> 556\u001b[1;33m                     \"if it contains a single sample.\".format(array))\n\u001b[0m\u001b[0;32m    557\u001b[0m \u001b[1;33m\u001b[0m\u001b[0m\n\u001b[0;32m    558\u001b[0m         \u001b[1;31m# in the future np.flexible dtypes will be handled like object dtypes\u001b[0m\u001b[1;33m\u001b[0m\u001b[1;33m\u001b[0m\u001b[1;33m\u001b[0m\u001b[0m\n",
      "\u001b[1;31mValueError\u001b[0m: Expected 2D array, got 1D array instead:\narray=[28 34 27 ... 28  3  6].\nReshape your data either using array.reshape(-1, 1) if your data has a single feature or array.reshape(1, -1) if it contains a single sample."
     ]
    }
   ],
   "source": [
    "#instantiate a KNN classifier\n",
    "knn = KNeighborsClassifier(len(dataset_labels), n_jobs=-1)\n",
    "\n",
    "#monitor time taken to train and predict\n",
    "startTime = time.time()\n",
    "knn.fit(ktrainX, ktrainY)\n",
    "print(\"Fitting time:\", time.time()-startTime)\n",
    "\n",
    "#predict on validation data\n",
    "startTime = time.time()\n",
    "preds = knn.predict(ktestX)\n",
    "print(\"Predictions time:\", time.time()-startTime)\n",
    "print(classification_report(ktestY, preds, target_names=dataset_labels))\n",
    "\n",
    "knn.save(\"C:\\GitHub\\mf724-ocr\\KNN\")"
   ]
  },
  {
   "cell_type": "markdown",
   "metadata": {},
   "source": [
    "# Final Results:\n",
    "\n",
    "### ResNet50:\n",
    "\n",
    "Weigted AVG F1 Score 0.96\n",
    "Training Time 139 seconds\n",
    "Full Prediction Time 33 seconds\n",
    "Single Prediction Time 0.0003 seconds\n",
    "\n",
    "### KNN\n",
    "\n",
    "Weigted AVG F1 Score 0.91\n",
    "Training Time 1088 seconds\n",
    "Full Prediction Time 7267 seconds\n",
    "Single Prediction Time 0.07 seconds\n",
    "\n",
    "The ResNet50 model out performs the KNN model in every metric, and will be used as the final model."
   ]
  }
 ],
 "metadata": {
  "kernelspec": {
   "display_name": "Python 3",
   "language": "python",
   "name": "python3"
  },
  "language_info": {
   "codemirror_mode": {
    "name": "ipython",
    "version": 3
   },
   "file_extension": ".py",
   "mimetype": "text/x-python",
   "name": "python",
   "nbconvert_exporter": "python",
   "pygments_lexer": "ipython3",
   "version": "3.8.3"
  }
 },
 "nbformat": 4,
 "nbformat_minor": 4
}
